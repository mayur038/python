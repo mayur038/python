{
 "cells": [
  {
   "cell_type": "code",
   "execution_count": 19,
   "id": "e229b876-40fd-49f4-8d2d-1db6639e6f93",
   "metadata": {},
   "outputs": [
    {
     "name": "stdout",
     "output_type": "stream",
     "text": [
      "     Series_reference   Period  Data_value   STATUS  UNITS  \\\n",
      "0         CPIM.SE9S01  1999.06       645.0  REVISED  Index   \n",
      "1         CPIM.SE9S01  1999.07       647.0  REVISED  Index   \n",
      "2         CPIM.SE9S01  1999.08       645.0  REVISED  Index   \n",
      "3         CPIM.SE9S01  1999.09       644.0  REVISED  Index   \n",
      "4         CPIM.SE9S01  1999.10       641.0  REVISED  Index   \n",
      "...               ...      ...         ...      ...    ...   \n",
      "4239   CPIM.SE9S01502  2023.05      1347.0  REVISED  Index   \n",
      "4240   CPIM.SE9S01502  2023.06      1361.0  REVISED  Index   \n",
      "4241   CPIM.SE9S01502  2023.07      1366.0  REVISED  Index   \n",
      "4242   CPIM.SE9S01502  2023.08      1367.0  REVISED  Index   \n",
      "4243   CPIM.SE9S01502  2023.09      1370.0    FINAL  Index   \n",
      "\n",
      "                          Subject  \\\n",
      "0     Consumers Price Index - CPI   \n",
      "1     Consumers Price Index - CPI   \n",
      "2     Consumers Price Index - CPI   \n",
      "3     Consumers Price Index - CPI   \n",
      "4     Consumers Price Index - CPI   \n",
      "...                           ...   \n",
      "4239  Consumers Price Index - CPI   \n",
      "4240  Consumers Price Index - CPI   \n",
      "4241  Consumers Price Index - CPI   \n",
      "4242  Consumers Price Index - CPI   \n",
      "4243  Consumers Price Index - CPI   \n",
      "\n",
      "                                                  Group       Series_title_1  \n",
      "0     Food Price Index for New Zealand, Seasonally a...  Seasonally adjusted  \n",
      "1     Food Price Index for New Zealand, Seasonally a...  Seasonally adjusted  \n",
      "2     Food Price Index for New Zealand, Seasonally a...  Seasonally adjusted  \n",
      "3     Food Price Index for New Zealand, Seasonally a...  Seasonally adjusted  \n",
      "4     Food Price Index for New Zealand, Seasonally a...  Seasonally adjusted  \n",
      "...                                                 ...                  ...  \n",
      "4239  Food Price Index Level 3 Classes for New Zeala...  Seasonally adjusted  \n",
      "4240  Food Price Index Level 3 Classes for New Zeala...  Seasonally adjusted  \n",
      "4241  Food Price Index Level 3 Classes for New Zeala...  Seasonally adjusted  \n",
      "4242  Food Price Index Level 3 Classes for New Zeala...  Seasonally adjusted  \n",
      "4243  Food Price Index Level 3 Classes for New Zeala...  Seasonally adjusted  \n",
      "\n",
      "[4244 rows x 8 columns]\n"
     ]
    }
   ],
   "source": [
    "import pandas as pd\n",
    "\n",
    "# var = pd.read_csv(\"food.csv\")\n",
    "data={\n",
    "    \"Team\":['csk','kkr''rcb','mi','gujrat','rajasthan'],\n",
    "    \"year\":[2011,2012,2013,2011,2012,2013],\n",
    "    \"rank\":[22,03,65,23,11,07]\n",
    "}\n",
    "df = pd.DataFrame(data)\n",
    "print(df)\n",
    "\n"
   ]
  },
  {
   "cell_type": "code",
   "execution_count": null,
   "id": "909c1e9d-6189-4e29-babf-61477c336096",
   "metadata": {},
   "outputs": [],
   "source": []
  },
  {
   "cell_type": "code",
   "execution_count": null,
   "id": "a1cb3eb6-e23d-4d1b-8d0e-27b65f36ee4e",
   "metadata": {},
   "outputs": [],
   "source": []
  }
 ],
 "metadata": {
  "kernelspec": {
   "display_name": "Python 3 (ipykernel)",
   "language": "python",
   "name": "python3"
  },
  "language_info": {
   "codemirror_mode": {
    "name": "ipython",
    "version": 3
   },
   "file_extension": ".py",
   "mimetype": "text/x-python",
   "name": "python",
   "nbconvert_exporter": "python",
   "pygments_lexer": "ipython3",
   "version": "3.12.0"
  }
 },
 "nbformat": 4,
 "nbformat_minor": 5
}
